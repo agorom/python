{
 "cells": [
  {
   "cell_type": "code",
   "execution_count": 1,
   "id": "a73473c9",
   "metadata": {},
   "outputs": [],
   "source": [
    "from flask import Flask, request, render_template"
   ]
  },
  {
   "cell_type": "code",
   "execution_count": 2,
   "id": "19d27085",
   "metadata": {},
   "outputs": [],
   "source": [
    "app = Flask(__name__)"
   ]
  },
  {
   "cell_type": "code",
   "execution_count": 3,
   "id": "5ad00275",
   "metadata": {},
   "outputs": [],
   "source": [
    "@app.route(\"/\")\n",
    "def index():\n",
    "    return \"Hello, World!\""
   ]
  },
  {
   "cell_type": "code",
   "execution_count": 4,
   "id": "9d06c425",
   "metadata": {},
   "outputs": [],
   "source": [
    "@app.route(\"/hello/<name>\")\n",
    "def hello(name):\n",
    "    return f\"Hello, {name}\""
   ]
  },
  {
   "cell_type": "code",
   "execution_count": 5,
   "id": "3bd54bcf",
   "metadata": {},
   "outputs": [],
   "source": [
    "@app.route(\"/form\", methods = [\"GET\", \"POST\"])\n",
    "def form():\n",
    "    if request.method == \"POST\":\n",
    "        name = request.form[\"name\"]\n",
    "        return f\"Hello, {name}!!\"\n",
    "    else:\n",
    "        return render_template(\"form.html\")"
   ]
  },
  {
   "cell_type": "code",
   "execution_count": null,
   "id": "c5be701f",
   "metadata": {},
   "outputs": [],
   "source": []
  }
 ],
 "metadata": {
  "kernelspec": {
   "display_name": "Python 3 (ipykernel)",
   "language": "python",
   "name": "python3"
  },
  "language_info": {
   "codemirror_mode": {
    "name": "ipython",
    "version": 3
   },
   "file_extension": ".py",
   "mimetype": "text/x-python",
   "name": "python",
   "nbconvert_exporter": "python",
   "pygments_lexer": "ipython3",
   "version": "3.9.7"
  }
 },
 "nbformat": 4,
 "nbformat_minor": 5
}
